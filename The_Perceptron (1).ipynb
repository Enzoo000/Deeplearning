{
 "cells": [
  {
   "cell_type": "markdown",
   "metadata": {
    "id": "vYiZq0X2oB5t"
   },
   "source": [
    "# **CSCE 5218 / CSCE 4930 Deep Learning**\n",
    "\n",
    "# **The Perceptron** (20 pt)\n"
   ]
  },
  {
   "cell_type": "code",
   "execution_count": 25,
   "metadata": {
    "colab": {
     "base_uri": "https://localhost:8080/"
    },
    "id": "vGVmKzgG2Ium",
    "outputId": "4cc2ca21-861a-4fba-a38c-83e3ec04bec8"
   },
   "outputs": [
    {
     "data": {
      "text/plain": [
       "['  % Total    % Received % Xferd  Average Speed   Time    Time     Time  Current',\n",
       " '                                 Dload  Upload   Total   Spent    Left  Speed',\n",
       " '',\n",
       " '  0     0    0     0    0     0      0      0 --:--:-- --:--:-- --:--:--     0',\n",
       " '100 11645  100 11645    0     0  98379      0 --:--:-- --:--:-- --:--:--  101k']"
      ]
     },
     "execution_count": 25,
     "metadata": {},
     "output_type": "execute_result"
    }
   ],
   "source": [
    "# Get the datasets\n",
    "!!/usr/bin/curl --output test.dat https://raw.githubusercontent.com/huangyanann/CSCE5218/main/test_small.txt\n",
    "!!/usr/bin/curl --output train.dat https://raw.githubusercontent.com/huangyanann/CSCE5218/main/train.txt\n"
   ]
  },
  {
   "cell_type": "code",
   "execution_count": 26,
   "metadata": {
    "colab": {
     "base_uri": "https://localhost:8080/"
    },
    "id": "A69DxPSc8vNs",
    "outputId": "5440e602-8ecd-44cf-d48d-2e8b00cdcc52"
   },
   "outputs": [
    {
     "name": "stdout",
     "output_type": "stream",
     "text": [
      "A1\tA2\tA3\tA4\tA5\tA6\tA7\tA8\tA9\tA10\tA11\tA12\tA13\t\n",
      "1\t1\t0\t0\t0\t0\t0\t0\t1\t1\t0\t0\t1\t0\n",
      "0\t0\t1\t1\t0\t1\t1\t0\t0\t0\t0\t0\t1\t0\n",
      "0\t1\t0\t1\t1\t0\t1\t0\t1\t1\t1\t0\t1\t1\n",
      "0\t0\t1\t0\t0\t1\t0\t1\t0\t1\t1\t1\t1\t0\n",
      "0\t1\t0\t0\t0\t0\t0\t1\t1\t1\t1\t1\t1\t0\n",
      "0\t1\t1\t1\t0\t0\t0\t1\t0\t1\t1\t0\t1\t1\n",
      "0\t1\t1\t0\t0\t0\t1\t0\t0\t0\t0\t0\t1\t0\n",
      "0\t0\t0\t1\t1\t0\t1\t1\t1\t0\t0\t0\t1\t0\n",
      "0\t0\t0\t0\t0\t0\t1\t0\t1\t0\t1\t0\t1\t0\n",
      "X1\tX2\tX3\n",
      "1\t1\t1\t1\n",
      "0\t0\t1\t1\n",
      "0\t1\t1\t0\n",
      "0\t1\t1\t0\n",
      "0\t1\t1\t0\n",
      "0\t1\t1\t0\n",
      "0\t1\t1\t0\n",
      "0\t1\t1\t0\n",
      "1\t1\t1\t1\n"
     ]
    }
   ],
   "source": [
    "# Take a peek at the datasets\n",
    "!head train.dat\n",
    "!head test.dat"
   ]
  },
  {
   "cell_type": "markdown",
   "metadata": {
    "id": "rFXHLhnhwiBR"
   },
   "source": [
    "### Build the Perceptron Model\n",
    "\n",
    "You will need to complete some of the function definitions below.  DO NOT import any other libraries to complete this. "
   ]
  },
  {
   "cell_type": "code",
   "execution_count": 27,
   "metadata": {
    "id": "cXAsP_lw3QwJ"
   },
   "outputs": [],
   "source": [
    "import math\n",
    "import itertools\n",
    "import re\n",
    "\n",
    "\n",
    "# Corpus reader, all columns but the last one are coordinates;\n",
    "#   the last column is the label\n",
    "def read_data(file_name):\n",
    "    f = open(file_name, 'r')\n",
    "\n",
    "    data = []\n",
    "    # Discard header line\n",
    "    f.readline()\n",
    "    for instance in f.readlines():\n",
    "        if not re.search('\\t', instance): continue\n",
    "        instance = list(map(int, instance.strip().split('\\t')))\n",
    "        # Add a dummy input so that w0 becomes the bias\n",
    "        instance = [-1] + instance\n",
    "        data += [instance]\n",
    "    return data\n",
    "\n",
    "\n",
    "def dot_product(array1, array2):\n",
    "    return sum(a * b for a, b in zip(array1, array2))\n",
    "\n",
    "def sigmoid(x):\n",
    "    return 1 / (1 + math.exp(-x))\n",
    "\n",
    "# The output of the model, which for the perceptron is \n",
    "# the sigmoid function applied to the dot product of \n",
    "# the instance and the weights\n",
    "def output(weights, instance):\n",
    "    return sigmoid(dot_product(weights, instance))\n",
    "\n",
    "# Predict the label of an instance; this is the definition of the perceptron\n",
    "# you should output 1 if the output is >= 0.5 else output 0\n",
    "def predict(weights, instance):\n",
    "    return 1 if output(weights, instance) >= 0.5 else 0\n",
    "\n",
    "\n",
    "# Accuracy = percent of correct predictions\n",
    "def get_accuracy(weights, instances):\n",
    "    # You do not to write code like this, but get used to it\n",
    "    correct = sum([1 if predict(weights, instance) == instance[-1] else 0\n",
    "                   for instance in instances])\n",
    "    return correct * 100 / len(instances)\n",
    "\n",
    "\n",
    "# Train a perceptron with instances and hyperparameters:\n",
    "#       lr (learning rate) \n",
    "#       epochs\n",
    "# The implementation comes from the definition of the perceptron\n",
    "#\n",
    "# Training consists on fitting the parameters which are the weights\n",
    "# that's the only thing training is responsible to fit\n",
    "# (recall that w0 is the bias, and w1..wn are the weights for each coordinate)\n",
    "#\n",
    "# Hyperparameters (lr and epochs) are given to the training algorithm\n",
    "# We are updating weights in the opposite direction of the gradient of the error,\n",
    "# so with a \"decent\" lr we are guaranteed to reduce the error after each iteration.\n",
    "def train_perceptron(instances, lr, epochs):\n",
    "\n",
    "    # TODO: Initialize Weights\n",
    "    weights = [0] * (len(instances[0])-1)\n",
    "\n",
    "    for _ in range(epochs):\n",
    "        for instance in instances:\n",
    "            # TODO: Compute Weighted Sum (Dot Product)\n",
    "            in_value = dot_product(weights, instance)\n",
    "            # TODO: Apply Activation Function (Sigmoid)\n",
    "            output = sigmoid(in_value)\n",
    "             #TODO: Compute Prediction Error\n",
    "            error = instance[-1] - output\n",
    "            # TODO: Update Weights Using Gradient Descent\n",
    "            for i in range(0, len(weights)):\n",
    "                weights[i] += lr * error * output * (1-output) * instance[i]\n",
    "\n",
    "    return weights"
   ]
  },
  {
   "cell_type": "markdown",
   "metadata": {
    "id": "adBZuMlAwiBT"
   },
   "source": [
    "## Run it"
   ]
  },
  {
   "cell_type": "code",
   "execution_count": 28,
   "metadata": {
    "id": "50YvUza-BYQF"
   },
   "outputs": [
    {
     "name": "stdout",
     "output_type": "stream",
     "text": [
      "#tr: 400, epochs:   5, learning rate: 0.005; Accuracy (test, 14 instances): 71.4\n"
     ]
    }
   ],
   "source": [
    "instances_tr = read_data(\"train.txt\")\n",
    "instances_te = read_data(\"test_small.txt\")\n",
    "lr = 0.005\n",
    "epochs = 5\n",
    "weights = train_perceptron(instances_tr, lr, epochs)\n",
    "accuracy = get_accuracy(weights, instances_te)\n",
    "print(f\"#tr: {len(instances_tr):3}, epochs: {epochs:3}, learning rate: {lr:.3f}; \"\n",
    "      f\"Accuracy (test, {len(instances_te)} instances): {accuracy:.1f}\")"
   ]
  },
  {
   "cell_type": "markdown",
   "metadata": {
    "id": "CBXkvaiQMohX"
   },
   "source": [
    "## Questions\n",
    "\n",
    "Answer the following questions. Include your implementation and the output for each question."
   ]
  },
  {
   "cell_type": "markdown",
   "metadata": {
    "id": "YCQ6BEk1CBlr"
   },
   "source": [
    "\n",
    "\n",
    "### Question 1\n",
    "\n",
    "In `train_perceptron(instances, lr, epochs)`, we have the follosing code:\n",
    "```\n",
    "in_value = dot_product(weights, instance)\n",
    "output = sigmoid(in_value)\n",
    "error = instance[-1] - output\n",
    "```\n",
    "\n",
    "Why don't we have the following code snippet instead?\n",
    "```\n",
    "output = predict(weights, instance)\n",
    "error = instance[-1] - output\n",
    "```\n",
    "\n",
    "#### TODO Add your answer here (text only)\n",
    "\n",
    "\n"
   ]
  },
  {
   "cell_type": "markdown",
   "metadata": {},
   "source": [
    "Using `predict(weights, instance)` directly returns a binary output (0 or 1) since it applies a threshold at 0.5, whereas `output = sigmoid(in_value)` provides a continuous value between 0 and 1. This is important for training since the perceptron uses gradient descent, which requires a differentiable function (the sigmoid function). If we used `predict`, the updates would be less precise, and learning would not be as smooth. "
   ]
  },
  {
   "cell_type": "markdown",
   "metadata": {
    "id": "JU3c3m6YL2rK"
   },
   "source": [
    "### Question 2\n",
    "Train the perceptron with the following hyperparameters and calculate the accuracy with the test dataset.\n",
    "\n",
    "```\n",
    "tr_percent = [5, 10, 25, 50, 75, 100] # percent of the training dataset to train with\n",
    "num_epochs = [5, 10, 20, 50, 100]              # number of epochs\n",
    "lr = [0.005, 0.01, 0.05]              # learning rate\n",
    "```\n",
    "\n",
    "TODO: Write your code below and include the output at the end of each training loop (NOT AFTER EACH EPOCH)\n",
    "of your code.The output should look like the following:\n",
    "```\n",
    "# tr:  20, epochs:   5, learning rate: 0.005; Accuracy (test, 100 instances): 68.0\n",
    "# tr:  20, epochs:  10, learning rate: 0.005; Accuracy (test, 100 instances): 68.0\n",
    "# tr:  20, epochs:  20, learning rate: 0.005; Accuracy (test, 100 instances): 68.0\n",
    "[and so on for all the combinations]\n",
    "```\n",
    "You will get different results with different hyperparameters.\n",
    "\n",
    "#### TODO Add your answer here (code and output in the format above) \n"
   ]
  },
  {
   "cell_type": "code",
   "execution_count": 29,
   "metadata": {
    "id": "G-VKJOUu2BTp"
   },
   "outputs": [
    {
     "name": "stdout",
     "output_type": "stream",
     "text": [
      "# tr: 20, epochs: 5, learning rate: 0.005; Accuracy (test, 14 instances): 71.4\n",
      "# tr: 20, epochs: 5, learning rate: 0.010; Accuracy (test, 14 instances): 71.4\n",
      "# tr: 20, epochs: 5, learning rate: 0.050; Accuracy (test, 14 instances): 71.4\n",
      "# tr: 20, epochs: 10, learning rate: 0.005; Accuracy (test, 14 instances): 71.4\n",
      "# tr: 20, epochs: 10, learning rate: 0.010; Accuracy (test, 14 instances): 71.4\n",
      "# tr: 20, epochs: 10, learning rate: 0.050; Accuracy (test, 14 instances): 85.7\n",
      "# tr: 20, epochs: 20, learning rate: 0.005; Accuracy (test, 14 instances): 71.4\n",
      "# tr: 20, epochs: 20, learning rate: 0.010; Accuracy (test, 14 instances): 71.4\n",
      "# tr: 20, epochs: 20, learning rate: 0.050; Accuracy (test, 14 instances): 42.9\n",
      "# tr: 20, epochs: 50, learning rate: 0.005; Accuracy (test, 14 instances): 71.4\n",
      "# tr: 20, epochs: 50, learning rate: 0.010; Accuracy (test, 14 instances): 85.7\n",
      "# tr: 20, epochs: 50, learning rate: 0.050; Accuracy (test, 14 instances): 42.9\n",
      "# tr: 20, epochs: 100, learning rate: 0.005; Accuracy (test, 14 instances): 85.7\n",
      "# tr: 20, epochs: 100, learning rate: 0.010; Accuracy (test, 14 instances): 42.9\n",
      "# tr: 20, epochs: 100, learning rate: 0.050; Accuracy (test, 14 instances): 42.9\n",
      "# tr: 40, epochs: 5, learning rate: 0.005; Accuracy (test, 14 instances): 71.4\n",
      "# tr: 40, epochs: 5, learning rate: 0.010; Accuracy (test, 14 instances): 71.4\n",
      "# tr: 40, epochs: 5, learning rate: 0.050; Accuracy (test, 14 instances): 71.4\n",
      "# tr: 40, epochs: 10, learning rate: 0.005; Accuracy (test, 14 instances): 71.4\n",
      "# tr: 40, epochs: 10, learning rate: 0.010; Accuracy (test, 14 instances): 71.4\n",
      "# tr: 40, epochs: 10, learning rate: 0.050; Accuracy (test, 14 instances): 71.4\n",
      "# tr: 40, epochs: 20, learning rate: 0.005; Accuracy (test, 14 instances): 71.4\n",
      "# tr: 40, epochs: 20, learning rate: 0.010; Accuracy (test, 14 instances): 71.4\n",
      "# tr: 40, epochs: 20, learning rate: 0.050; Accuracy (test, 14 instances): 71.4\n",
      "# tr: 40, epochs: 50, learning rate: 0.005; Accuracy (test, 14 instances): 71.4\n",
      "# tr: 40, epochs: 50, learning rate: 0.010; Accuracy (test, 14 instances): 71.4\n",
      "# tr: 40, epochs: 50, learning rate: 0.050; Accuracy (test, 14 instances): 28.6\n",
      "# tr: 40, epochs: 100, learning rate: 0.005; Accuracy (test, 14 instances): 71.4\n",
      "# tr: 40, epochs: 100, learning rate: 0.010; Accuracy (test, 14 instances): 85.7\n",
      "# tr: 40, epochs: 100, learning rate: 0.050; Accuracy (test, 14 instances): 42.9\n",
      "# tr: 100, epochs: 5, learning rate: 0.005; Accuracy (test, 14 instances): 71.4\n",
      "# tr: 100, epochs: 5, learning rate: 0.010; Accuracy (test, 14 instances): 71.4\n",
      "# tr: 100, epochs: 5, learning rate: 0.050; Accuracy (test, 14 instances): 71.4\n",
      "# tr: 100, epochs: 10, learning rate: 0.005; Accuracy (test, 14 instances): 71.4\n",
      "# tr: 100, epochs: 10, learning rate: 0.010; Accuracy (test, 14 instances): 71.4\n",
      "# tr: 100, epochs: 10, learning rate: 0.050; Accuracy (test, 14 instances): 71.4\n",
      "# tr: 100, epochs: 20, learning rate: 0.005; Accuracy (test, 14 instances): 71.4\n",
      "# tr: 100, epochs: 20, learning rate: 0.010; Accuracy (test, 14 instances): 71.4\n",
      "# tr: 100, epochs: 20, learning rate: 0.050; Accuracy (test, 14 instances): 28.6\n",
      "# tr: 100, epochs: 50, learning rate: 0.005; Accuracy (test, 14 instances): 71.4\n",
      "# tr: 100, epochs: 50, learning rate: 0.010; Accuracy (test, 14 instances): 71.4\n",
      "# tr: 100, epochs: 50, learning rate: 0.050; Accuracy (test, 14 instances): 28.6\n",
      "# tr: 100, epochs: 100, learning rate: 0.005; Accuracy (test, 14 instances): 71.4\n",
      "# tr: 100, epochs: 100, learning rate: 0.010; Accuracy (test, 14 instances): 28.6\n",
      "# tr: 100, epochs: 100, learning rate: 0.050; Accuracy (test, 14 instances): 28.6\n",
      "# tr: 200, epochs: 5, learning rate: 0.005; Accuracy (test, 14 instances): 71.4\n",
      "# tr: 200, epochs: 5, learning rate: 0.010; Accuracy (test, 14 instances): 71.4\n",
      "# tr: 200, epochs: 5, learning rate: 0.050; Accuracy (test, 14 instances): 85.7\n",
      "# tr: 200, epochs: 10, learning rate: 0.005; Accuracy (test, 14 instances): 71.4\n",
      "# tr: 200, epochs: 10, learning rate: 0.010; Accuracy (test, 14 instances): 71.4\n",
      "# tr: 200, epochs: 10, learning rate: 0.050; Accuracy (test, 14 instances): 85.7\n",
      "# tr: 200, epochs: 20, learning rate: 0.005; Accuracy (test, 14 instances): 71.4\n",
      "# tr: 200, epochs: 20, learning rate: 0.010; Accuracy (test, 14 instances): 71.4\n",
      "# tr: 200, epochs: 20, learning rate: 0.050; Accuracy (test, 14 instances): 85.7\n",
      "# tr: 200, epochs: 50, learning rate: 0.005; Accuracy (test, 14 instances): 85.7\n",
      "# tr: 200, epochs: 50, learning rate: 0.010; Accuracy (test, 14 instances): 85.7\n",
      "# tr: 200, epochs: 50, learning rate: 0.050; Accuracy (test, 14 instances): 85.7\n",
      "# tr: 200, epochs: 100, learning rate: 0.005; Accuracy (test, 14 instances): 85.7\n",
      "# tr: 200, epochs: 100, learning rate: 0.010; Accuracy (test, 14 instances): 85.7\n",
      "# tr: 200, epochs: 100, learning rate: 0.050; Accuracy (test, 14 instances): 85.7\n",
      "# tr: 300, epochs: 5, learning rate: 0.005; Accuracy (test, 14 instances): 71.4\n",
      "# tr: 300, epochs: 5, learning rate: 0.010; Accuracy (test, 14 instances): 71.4\n",
      "# tr: 300, epochs: 5, learning rate: 0.050; Accuracy (test, 14 instances): 71.4\n",
      "# tr: 300, epochs: 10, learning rate: 0.005; Accuracy (test, 14 instances): 71.4\n",
      "# tr: 300, epochs: 10, learning rate: 0.010; Accuracy (test, 14 instances): 71.4\n",
      "# tr: 300, epochs: 10, learning rate: 0.050; Accuracy (test, 14 instances): 85.7\n",
      "# tr: 300, epochs: 20, learning rate: 0.005; Accuracy (test, 14 instances): 71.4\n",
      "# tr: 300, epochs: 20, learning rate: 0.010; Accuracy (test, 14 instances): 71.4\n",
      "# tr: 300, epochs: 20, learning rate: 0.050; Accuracy (test, 14 instances): 85.7\n",
      "# tr: 300, epochs: 50, learning rate: 0.005; Accuracy (test, 14 instances): 71.4\n",
      "# tr: 300, epochs: 50, learning rate: 0.010; Accuracy (test, 14 instances): 85.7\n",
      "# tr: 300, epochs: 50, learning rate: 0.050; Accuracy (test, 14 instances): 85.7\n",
      "# tr: 300, epochs: 100, learning rate: 0.005; Accuracy (test, 14 instances): 85.7\n",
      "# tr: 300, epochs: 100, learning rate: 0.010; Accuracy (test, 14 instances): 85.7\n",
      "# tr: 300, epochs: 100, learning rate: 0.050; Accuracy (test, 14 instances): 85.7\n",
      "# tr: 400, epochs: 5, learning rate: 0.005; Accuracy (test, 14 instances): 71.4\n",
      "# tr: 400, epochs: 5, learning rate: 0.010; Accuracy (test, 14 instances): 71.4\n",
      "# tr: 400, epochs: 5, learning rate: 0.050; Accuracy (test, 14 instances): 71.4\n",
      "# tr: 400, epochs: 10, learning rate: 0.005; Accuracy (test, 14 instances): 71.4\n",
      "# tr: 400, epochs: 10, learning rate: 0.010; Accuracy (test, 14 instances): 71.4\n",
      "# tr: 400, epochs: 10, learning rate: 0.050; Accuracy (test, 14 instances): 71.4\n",
      "# tr: 400, epochs: 20, learning rate: 0.005; Accuracy (test, 14 instances): 71.4\n",
      "# tr: 400, epochs: 20, learning rate: 0.010; Accuracy (test, 14 instances): 71.4\n",
      "# tr: 400, epochs: 20, learning rate: 0.050; Accuracy (test, 14 instances): 71.4\n",
      "# tr: 400, epochs: 50, learning rate: 0.005; Accuracy (test, 14 instances): 71.4\n",
      "# tr: 400, epochs: 50, learning rate: 0.010; Accuracy (test, 14 instances): 71.4\n",
      "# tr: 400, epochs: 50, learning rate: 0.050; Accuracy (test, 14 instances): 71.4\n",
      "# tr: 400, epochs: 100, learning rate: 0.005; Accuracy (test, 14 instances): 71.4\n",
      "# tr: 400, epochs: 100, learning rate: 0.010; Accuracy (test, 14 instances): 71.4\n",
      "# tr: 400, epochs: 100, learning rate: 0.050; Accuracy (test, 14 instances): 71.4\n"
     ]
    }
   ],
   "source": [
    "instances_tr = read_data(\"train.txt\")\n",
    "instances_te = read_data(\"test_small.txt\")\n",
    "tr_percent = [5, 10, 25, 50, 75, 100] # percent of the training dataset to train with\n",
    "num_epochs = [5, 10, 20, 50, 100]     # number of epochs\n",
    "lr_array = [0.005, 0.01, 0.05]        # learning rate\n",
    "\n",
    "results = []\n",
    "for tr_p in tr_percent:\n",
    "    tr_size = int(len(instances_tr) * (tr_p / 100))\n",
    "    train_subset = instances_tr[:tr_size]\n",
    "    for epochs in num_epochs:\n",
    "        for lr in lr_array:\n",
    "            weights = train_perceptron(train_subset, lr, epochs)\n",
    "            accuracy = get_accuracy(weights, instances_te)\n",
    "            results.append(f\"# tr: {tr_size}, epochs: {epochs}, learning rate: {lr:.3f}; Accuracy (test, {len(instances_te)} instances): {accuracy:.1f}\")\n",
    "\n",
    "for res in results:\n",
    "    print(res)"
   ]
  },
  {
   "cell_type": "markdown",
   "metadata": {
    "id": "OFB9MtwML24O"
   },
   "source": [
    "### Question 3\n",
    "Write a couple paragraphs interpreting the results with all the combinations of hyperparameters. Drawing a plot will probably help you make a point. In particular, answer the following:\n",
    "- A. Do you need to train with all the training dataset to get the highest accuracy with the test dataset?\n",
    "- B. How do you justify that training the second run obtains worse accuracy than the first one (despite the second one uses more training data)?\n",
    "   ```\n",
    "#tr: 100, epochs:  20, learning rate: 0.050; Accuracy (test, 100 instances): 71.0\n",
    "#tr: 200, epochs:  20, learning rate: 0.005; Accuracy (test, 100 instances): 68.0\n",
    "\n",
    "- C. Can you get higher accuracy with additional hyperparameters (higher than `80.0`)?\n",
    "- D. Is it always worth training for more epochs (while keeping all other hyperparameters fixed)?\n",
    "\n",
    "\n",
    "#### TODO: Add your answer here (code and text)\n",
    "\n",
    "A. No, training with all available data is not always necessary to achieve the highest accuracy. In many cases, a smaller subset of the training data is sufficient for the perceptron to generalize well on unseen test data.\n",
    "\n",
    "For example, training with 100 instances (tr: 100, epochs: 20, learning rate: 0.050) achieved 71.0% accuracy, while training with 200 instances (tr: 200, epochs: 20, learning rate: 0.005) resulted in a lower accuracy of 68.0%.\n",
    "This suggests that more data does not always mean better performance, as too much data can introduce noise or redundancy.\n",
    "\n",
    "B. The second run (tr: 200, epochs: 20, learning rate: 0.005) performs worse (68.0% accuracy) than the first run (tr: 100, epochs: 20, learning rate: 0.050, accuracy 71.0%), despite having more training data. This can happen due to two main reasons: \n",
    "1. Underfitting due to Low Learning Rate: - The second run used a low learning rate (0.005), which means the perceptron is learning too slowly. - It might not have fully adapted to patterns in the data within 20 epochs.\n",
    "2. Irrelevant or Noisy Data: - Increasing training data does not always improve accuracy if the new data does not contribute meaningful patterns. - The additional data may introduce noise, which could negatively impact the model’s ability to generalize.\n",
    "\n",
    "C. Yes, tuning hyperparameters further could achieve higher than 80.0% accuracy.\n",
    "To improve performance, we could try:\n",
    "\n",
    "Higher learning rates (0.1 or adaptive rates) to adjust the step size dynamically,\n",
    "More epochs to ensure convergence, \n",
    "Feature scaling or preprocessing (e.g., normalizing data) to make learning more efficient.\n",
    "Some runs in the current experiment already reached 85.7% accuracy, indicating that optimal hyperparameters exist within the given setup.\n",
    "\n",
    "D. No, increasing the number of epochs is not always beneficial. - If the model is underfitting, increasing epochs may help improve accuracy. - However, if the model is already trained well, too many epochs can cause overfitting, where the perceptron memorizes training data instead of generalizing to unseen data. This was observed when some training runs with higher epochs led to a decrease in accuracy.\n",
    "\n"
   ]
  },
  {
   "cell_type": "code",
   "execution_count": 30,
   "metadata": {},
   "outputs": [
    {
     "name": "stdout",
     "output_type": "stream",
     "text": [
      "    Training Size  Epochs  Learning Rate  Accuracy\n",
      "0              20       5          0.005      71.4\n",
      "1              20       5          0.010      71.4\n",
      "2              20       5          0.050      71.4\n",
      "3              20      10          0.005      71.4\n",
      "4              20      10          0.010      71.4\n",
      "..            ...     ...            ...       ...\n",
      "85            400      50          0.010      71.4\n",
      "86            400      50          0.050      71.4\n",
      "87            400     100          0.005      71.4\n",
      "88            400     100          0.010      71.4\n",
      "89            400     100          0.050      71.4\n",
      "\n",
      "[90 rows x 4 columns]\n"
     ]
    },
    {
     "data": {
      "image/png": "[encoded data removed]",
      "text/plain": [
       "<Figure size 1000x600 with 1 Axes>"
      ]
     },
     "metadata": {},
     "output_type": "display_data"
    }
   ],
   "source": [
    "import pandas as pd\n",
    "import matplotlib.pyplot as plt\n",
    "\n",
    "data = []\n",
    "for res in results:\n",
    "    match = re.search(r\"# tr:\\s*(\\d+), epochs:\\s*(\\d+), learning rate:\\s*([\\d.]+); Accuracy \\(test, \\d+ instances\\):\\s*([\\d.]+)\", res)\n",
    "    if match:\n",
    "        tr_size = int(match.group(1))\n",
    "        epochs = int(match.group(2))\n",
    "        lr = float(match.group(3))\n",
    "        accuracy = float(match.group(4))\n",
    "        data.append([tr_size, epochs, lr, accuracy])\n",
    "        \n",
    "\n",
    "df = pd.DataFrame(data, columns=[\"Training Size\", \"Epochs\", \"Learning Rate\", \"Accuracy\"])\n",
    "\n",
    "# Display results\n",
    "print(df)\n",
    "\n",
    "# Plot accuracy trends\n",
    "plt.figure(figsize=(10, 6))\n",
    "for lr in df[\"Learning Rate\"].unique():\n",
    "    subset = df[df[\"Learning Rate\"] == lr]\n",
    "    plt.plot(subset[\"Training Size\"], subset[\"Accuracy\"], marker=\"o\", linestyle=\"-\", label=f\"LR={lr}\")\n",
    "\n",
    "plt.xlabel(\"Training Size\")\n",
    "plt.ylabel(\"Accuracy (%)\")\n",
    "plt.title(\"Accuracy vs. Training Size for Different Learning Rates\")\n",
    "plt.legend()\n",
    "plt.grid(True)\n",
    "plt.show()"
   ]
  },
  {
   "cell_type": "code",
   "execution_count": null,
   "metadata": {},
   "outputs": [],
   "source": []
  },
  {
   "cell_type": "code",
   "execution_count": null,
   "metadata": {},
   "outputs": [],
   "source": []
  },
  {
   "cell_type": "code",
   "execution_count": null,
   "metadata": {},
   "outputs": [],
   "source": []
  }
 ],
 "metadata": {
  "accelerator": "GPU",
  "colab": {
   "collapsed_sections": [],
   "name": "HW2_The_Perceptron.ipynb",
   "provenance": []
  },
  "kernelspec": {
   "display_name": "Python 3 (ipykernel)",
   "language": "python",
   "name": "python3"
  },
  "language_info": {
   "codemirror_mode": {
    "name": "ipython",
    "version": 3
   },
   "file_extension": ".py",
   "mimetype": "text/x-python",
   "name": "python",
   "nbconvert_exporter": "python",
   "pygments_lexer": "ipython3",
   "version": "3.11.11"
  }
 },
 "nbformat": 4,
 "nbformat_minor": 4
}
